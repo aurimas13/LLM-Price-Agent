{
 "cells": [
  {
   "cell_type": "markdown",
   "id": "7a739149-8ab6-4105-b180-db3a5a644275",
   "metadata": {},
   "source": [
    "# Step 1: Analyze the Data (Loading & Cleaning)\n",
    "\n",
    "Loading the data, exploring its structure, and performing necessary preprocessing to make it suitable for a chatbot application."
   ]
  },
  {
   "cell_type": "code",
   "execution_count": 1,
   "id": "4fd9c194-0d0c-4b5e-a465-531184562578",
   "metadata": {},
   "outputs": [],
   "source": [
    "import spacy\n",
    "import requests\n",
    "import json\n",
    "import logging     \n",
    "import re\n",
    "import pandas as pd\n",
    "import sys\n",
    "import os\n",
    "import warnings\n",
    "warnings.filterwarnings('ignore')\n",
    "from openai import OpenAI\n",
    "from bs4 import BeautifulSoup\n",
    "from PIL import Image\n",
    "from sentence_transformers import SentenceTransformer, util\n",
    "# Adding this directory to sys.path\n",
    "module_path = os.path.abspath(os.path.join('..', 'app'))\n",
    "if module_path not in sys.path:\n",
    "    sys.path.append(module_path)\n",
    "from database import load_data_into_db, get_db_connection\n",
    "# Disable tokenizers parallelism to avoid the warning\n",
    "os.environ[\"TOKENIZERS_PARALLELISM\"] = \"false\"\n",
    "\n",
    "# Response Formatting\n",
    "\n",
    "def format_product_response(product):\n",
    "    # Format the product details into a string\n",
    "    return f\" Price: {product['Price']:.2f}, Product: {product['Title']}, Description: {product['Cleaned_Description'][:123]}...\"\n",
    "\n",
    "# Corrected file path\n",
    "file_path = '../data/products.csv'\n",
    "products_df = pd.read_csv(file_path, delimiter=';', usecols=['ID', 'Title', 'Description', 'Vendor', 'Type', 'Tags', 'Price'])\n",
    "\n",
    "def clean_html(raw_html):\n",
    "    if pd.isnull(raw_html):\n",
    "        return \"\"\n",
    "    clean_text = BeautifulSoup(raw_html, \"html.parser\").text\n",
    "    return \" \".join(clean_text.split())\n",
    "\n",
    "products_df['Cleaned_Description'] = products_df['Description'].apply(clean_html)\n",
    "products_df = products_df.dropna(subset=['Title'])\n",
    "products_df = products_df[products_df['Cleaned_Description'].str.strip() != '']\n",
    "products_df['Tags'] = products_df['Tags'].apply(lambda x: x.split(',') if pd.notnull(x) else [])"
   ]
  },
  {
   "cell_type": "markdown",
   "id": "a127521f-74e4-484a-a71d-af8cd78fa122",
   "metadata": {},
   "source": [
    "# Step 2: Data Preprocessing & Feature Engineering\n",
    "We need to clean the data, especially the `Description` column, as it contains HTML tags and other non-text elements that may not be useful for our text processing tasks."
   ]
  },
  {
   "cell_type": "code",
   "execution_count": 2,
   "id": "113c2266-6e2e-4964-9aef-cee8e7f7c452",
   "metadata": {},
   "outputs": [
    {
     "data": {
      "text/plain": [
       "0     delicacy harmony balance pure form smooth grea...\n",
       "2     product Description Shipping Care gorgeous str...\n",
       "10    product description Shipping Care Marrying com...\n",
       "20    completely natural bug spray perfect nighttime...\n",
       "22    Cold Flu Relief Immune Support Allergy Relief ...\n",
       "Name: Processed_Description, dtype: object"
      ]
     },
     "execution_count": 2,
     "metadata": {},
     "output_type": "execute_result"
    }
   ],
   "source": [
    "# Assuming spaCy is installed and the model is downloaded\n",
    "\n",
    "nlp = spacy.load(\"en_core_web_sm\")\n",
    "\n",
    "def preprocess_text(text):\n",
    "    doc = nlp(text)\n",
    "    lemmatized = [token.lemma_ for token in doc if not token.is_stop and not token.is_punct and not token.is_space]\n",
    "    return \" \".join(lemmatized)\n",
    "\n",
    "products_df['Processed_Description'] = products_df['Cleaned_Description'].apply(preprocess_text)\n",
    "products_df['Processed_Description'].head()"
   ]
  },
  {
   "cell_type": "markdown",
   "id": "87639b54-898a-45bc-9bfa-739d68e9b73b",
   "metadata": {},
   "source": [
    "\n",
    "2. Extracting Features with Named Entity Recognition (NER)\n",
    "Extracting entities like materials, benefits from descriptions:"
   ]
  },
  {
   "cell_type": "code",
   "execution_count": 3,
   "id": "a48c68eb-1d71-4357-afe6-5e79fe3ab0c6",
   "metadata": {},
   "outputs": [
    {
     "data": {
      "text/plain": [
       "0     [(calendula, GPE), (xylitol, PERSON), (Cruelty...\n",
       "2     [(90%, PERCENT), (10%, PERCENT), (21\"-24, DATE...\n",
       "10    [(KP, PERSON), (hours, TIME), (One, CARDINAL),...\n",
       "20    [(mosquito season, DATE), (Organic, NORP), (Ci...\n",
       "22    [(Cold & Flu Relief, ORG), (Organic Freshly, O...\n",
       "Name: Entities, dtype: object"
      ]
     },
     "execution_count": 3,
     "metadata": {},
     "output_type": "execute_result"
    }
   ],
   "source": [
    "def extract_entities(text):\n",
    "    doc = nlp(text)\n",
    "    entities = [(ent.text, ent.label_) for ent in doc.ents]\n",
    "    return entities\n",
    "\n",
    "products_df['Entities'] = products_df['Cleaned_Description'].apply(extract_entities)\n",
    "products_df['Entities'].head()"
   ]
  },
  {
   "cell_type": "code",
   "execution_count": 4,
   "id": "9a9446d0-8fbd-4723-870b-b2ca8200039e",
   "metadata": {},
   "outputs": [],
   "source": [
    "# Function to clean tags and convert them to lowercase\n",
    "def clean_tags(tags):\n",
    "    return [tag.lower().strip() for tag in tags]\n",
    "\n",
    "# Clean the Tags and Type columns\n",
    "products_df['Tags'] = products_df['Tags'].apply(lambda x: clean_tags(x) if isinstance(x, list) else [])\n",
    "products_df['Type'] = products_df['Type'].str.lower().str.strip()\n",
    "\n",
    "# Convert Price to numeric type for sorting\n",
    "products_df['Price'] = pd.to_numeric(products_df['Price'], errors='coerce')\n",
    "\n",
    "# RUN ONCE - Save the intermediate cleaned data to a new CSV\n",
    "cleaned_data = '../data/cleaned_products.csv'\n",
    "products_df.to_csv(cleaned_data, index=False)"
   ]
  },
  {
   "cell_type": "markdown",
   "id": "ec6001b1",
   "metadata": {},
   "source": [
    "# 3. Loading model and data"
   ]
  },
  {
   "cell_type": "code",
   "execution_count": 5,
   "id": "c7863625",
   "metadata": {},
   "outputs": [],
   "source": [
    "# Load the SentenceTransformer model\n",
    "model = SentenceTransformer('all-MiniLM-L6-v2')"
   ]
  },
  {
   "cell_type": "code",
   "execution_count": 6,
   "id": "bb3c1a17",
   "metadata": {},
   "outputs": [],
   "source": [
    "# Load the data into the database\n",
    "load_data_into_db(products_df, model)"
   ]
  },
  {
   "cell_type": "markdown",
   "id": "1e6e3b95-8cdb-4fb7-8c3c-921827ec9a9f",
   "metadata": {
    "scrolled": true
   },
   "source": [
    "# 4. Integrating OpenAI's API for Enhanced Query Processing\n",
    "\n",
    "To integrate OpenAI's API, ensure you have an API key and have installed the `openai` Python package."
   ]
  },
  {
   "cell_type": "code",
   "execution_count": 7,
   "id": "0401a71d-83fa-4f4f-abc6-2670e30455ee",
   "metadata": {},
   "outputs": [],
   "source": [
    "# openai.api_key = 'your-api-key-here'\n",
    "client = OpenAI(api_key='your-api-key-here')\n",
    "\n",
    "def process_query_with_gpt4(query):\n",
    "    prompt = f\"Parse the following user query to identify product attributes and price constraints: '{query}'. List attributes and any specific price constraints.\"\n",
    "    try:\n",
    "        response = client.chat.completions.create(\n",
    "            model=\"gpt-4-turbo-preview\",\n",
    "            messages=[{\"role\": \"system\", \"content\": \"You are a helpful assistant.\"}, {\"role\": \"user\", \"content\": prompt}]\n",
    "        )\n",
    "        return response.choices[0].message.content.strip()\n",
    "    except Exception as e:\n",
    "        logging.error(f'Error processing query with GPT-4: {e}')\n",
    "        return \"\"\n"
   ]
  },
  {
   "cell_type": "code",
   "execution_count": 8,
   "id": "5cd3b387",
   "metadata": {},
   "outputs": [],
   "source": [
    "def pgvector_search(query_embedding, top_k=5):\n",
    "    # Convert the query_embedding to a list if it's a tensor\n",
    "    if isinstance(query_embedding, torch.Tensor):\n",
    "        query_embedding = query_embedding.tolist()\n",
    "        \n",
    "    # Connect to the database\n",
    "    conn = get_db_connection()\n",
    "    \n",
    "    # Perform the search\n",
    "    search_results = find_similar_products(conn, query_embedding, top_k)\n",
    "    \n",
    "    # Close the database connection\n",
    "    conn.close()\n",
    "    \n",
    "    return search_results"
   ]
  },
  {
   "cell_type": "code",
   "execution_count": 9,
   "id": "dfa312fc",
   "metadata": {},
   "outputs": [],
   "source": [
    "def semantic_search_with_pgvector(query):\n",
    "    query_embedding = model.encode(query, convert_to_tensor=True)\n",
    "    \n",
    "    # Use pgvector to perform the search\n",
    "    search_results = pgvector_search(query_embedding, top_k=5)\n",
    "    \n",
    "    matched_products = [products_df.iloc[hit] for hit in search_results]\n",
    "    return pd.DataFrame(matched_products)\n"
   ]
  },
  {
   "cell_type": "markdown",
   "id": "0008c80a-01e3-4a0c-aace-fac7aecbd350",
   "metadata": {},
   "source": [
    "# Generating Dynamic Responses with GPT-4\n",
    "\n",
    "Utilizing GPT-4's advanced text generation capabilities to create responses that are contextually relevant, detailed, and tailored to the user's query and the matched products."
   ]
  },
  {
   "cell_type": "code",
   "execution_count": 10,
   "id": "6ea825f2-4b61-4846-ad69-96e44c452066",
   "metadata": {},
   "outputs": [
    {
     "name": "stdout",
     "output_type": "stream",
     "text": [
      "Extracted Attributes: ['natural', 'organic']\n",
      "Extracted Min Price: 20.0\n"
     ]
    }
   ],
   "source": [
    "def parse_gpt_response(response):\n",
    "    attributes_pattern = r\"\\battributes?:\\s*([\\w\\s,]+?)(?:, with a minimum price of|\\.)\"\n",
    "    attributes = re.findall(attributes_pattern, response, re.I)\n",
    "    \n",
    "    # Flatten attribute list and filter empty values\n",
    "    attributes = [attr.strip() for attr in ''.join(attributes).split(',') if attr.strip()]\n",
    "    \n",
    "    # Adjust regex for min_price to correctly capture numeric values after \"minimum price of\"\n",
    "    min_price_pattern = r\"minimum price of (\\d+)\"\n",
    "    min_price_match = re.search(min_price_pattern, response, re.I)\n",
    "    min_price = float(min_price_match.group(1)) if min_price_match else None\n",
    "    \n",
    "#     # Flatten attribute list and filter empty values\n",
    "#     attributes = [attr.strip() for sublist in attributes for attr in sublist.split(',') if attr.strip()]\n",
    "#     min_price = float(min_price.group(1)) if min_price else None\n",
    "\n",
    "    return attributes, min_price\n",
    "\n",
    "# Example test\n",
    "test_response = \"Looking for products with the following attributes: natural, organic, with a minimum price of 20.\"\n",
    "attributes, min_price = parse_gpt_response(test_response)\n",
    "print(f\"Extracted Attributes: {attributes}\")\n",
    "print(f\"Extracted Min Price: {min_price}\")"
   ]
  },
  {
   "cell_type": "code",
   "execution_count": 11,
   "id": "4d77d12b-547d-41a6-aeab-1f3c9c41d2d3",
   "metadata": {},
   "outputs": [],
   "source": [
    "# 1\n",
    "\n",
    "def search_products_by_attributes(attributes, min_price=None):\n",
    "    # Filter products containing all the attributes\n",
    "    filtered_products = products_df[\n",
    "        products_df['Tags'].apply(lambda tags: all(attr in tags for attr in attributes)) |\n",
    "        products_df['Type'].str.contains('|'.join(attributes), case=False, na=False)\n",
    "    ]\n",
    "    \n",
    "    # Further filter by min price if specified\n",
    "    if min_price is not None:\n",
    "        filtered_products = filtered_products[filtered_products['Price'] >= min_price]\n",
    "    \n",
    "    # Sort by price\n",
    "    sorted_products = filtered_products.sort_values(by='Price', ascending=True)\n",
    "    \n",
    "#     # Manual test for understanding\n",
    "#     print(\"Original number of products:\", len(products_df))\n",
    "\n",
    "#     filtered_by_tags = products_df[products_df['Tags'].apply(lambda tags: all(attr in tags for attr in attributes))]\n",
    "#     print(\"Filtered by tags:\", len(filtered_by_tags))\n",
    "\n",
    "#     filtered_by_type = products_df[products_df['Type'].str.contains('|'.join(attributes), case=False, na=False)]\n",
    "#     print(\"Filtered by type:\", len(filtered_by_type))\n",
    "\n",
    "#     # Assuming products_df['Price'] is already numeric\n",
    "#     filtered_by_price = filtered_by_tags[filtered_by_tags['Price'] >= min_price]\n",
    "#     print(\"Filtered by price:\", len(filtered_by_price))\n",
    "\n",
    "#     # Combine all filters\n",
    "#     combined_filters = filtered_by_price\n",
    "#     print(\"Combined filters:\", len(combined_filters))\n",
    "    \n",
    "    return sorted_products"
   ]
  },
  {
   "cell_type": "code",
   "execution_count": 12,
   "id": "520ab036",
   "metadata": {},
   "outputs": [],
   "source": [
    "# 2 \n",
    "\n",
    "def filter_and_format_products(products_df, attributes, min_price):\n",
    "    # Filter products based on attributes and min_price\n",
    "    filtered_products = products_df[\n",
    "        (products_df['Price'] >= min_price) & \n",
    "        (products_df['Tags'].apply(lambda tags: all(attr in tags for attr in attributes)))\n",
    "    ]\n",
    "\n",
    "    # Format the filtered products\n",
    "    formatted_products = \"\\n\".join([\n",
    "        f\"{i+1}. Price: {row['Price']}, Description: {row['Description'][:100]}...\"\n",
    "        for i, row in filtered_products.iterrows()\n",
    "    ])\n",
    "    \n",
    "    return formatted_products\n",
    "\n",
    "\n",
    "# # Define test attributes\n",
    "# attributes_test = ['organic']  # Adjust based on your data\n",
    "# min_price_test = 20  # Adjust based on your data\n",
    "\n",
    "# # Test filtering by tags\n",
    "# filtered_by_tags = products_df[products_df['Tags'].apply(lambda tags: all(attr in tags for attr in attributes_test))]\n",
    "# print(\"Filtered by tags:\", len(filtered_by_tags))\n",
    "\n",
    "# # Test filtering by type\n",
    "# filtered_by_type = products_df[products_df['Type'].str.contains('|'.join(attributes_test), case=False, na=False)]\n",
    "# print(\"Filtered by type:\", len(filtered_by_type))\n",
    "\n",
    "# # Test filtering by price\n",
    "# filtered_by_price = products_df[products_df['Price'] >= min_price_test]\n",
    "# print(\"Filtered by price:\", len(filtered_by_price))\n",
    "\n",
    "# # Combine all filters\n",
    "# combined_filters = filtered_by_tags[filtered_by_tags['Price'] >= min_price_test]\n",
    "# print(\"Filtered by tags and price:\", len(combined_filters))\n",
    "\n"
   ]
  },
  {
   "cell_type": "code",
   "execution_count": 13,
   "id": "06400ef4",
   "metadata": {},
   "outputs": [],
   "source": [
    "def generate_dynamic_response_with_gpt4(query):\n",
    "    try:\n",
    "        # Extract attributes and price constraints from the user's query\n",
    "        processed_response = process_query_with_gpt4(query)\n",
    "        \n",
    "        # Parse the processed_response to get attributes and min_price\n",
    "        attributes, min_price = parse_gpt_response(processed_response)\n",
    "        \n",
    "        # Search for products based on extracted attributes and price\n",
    "        product_results = search_products_by_attributes(attributes, min_price)\n",
    "\n",
    "        # Format each product and prepend with numbering\n",
    "        response_strings = [\n",
    "            f\"{i + 1}. {format_product_response(row)}\"\n",
    "            for i, (index, row) in enumerate(product_results.iterrows())\n",
    "        ]\n",
    "        \n",
    "        # Join all formatted product strings into a single response string\n",
    "        response_string = \"\\n\".join(response_strings)\n",
    "\n",
    "        return response_string if response_strings else \"No products found matching your criteria.\"\n",
    "    except requests.exceptions.HTTPError as http_err:\n",
    "        logging.error(f'HTTP error occurred: {http_err}')\n",
    "    except Exception as err:\n",
    "        logging.error(f'Other error occurred: {err}')\n",
    "    return \"Error generating response. Please try again later.\"\n"
   ]
  },
  {
   "cell_type": "code",
   "execution_count": 14,
   "id": "e4c791a3-0a69-4f3e-bb09-f0b09033154a",
   "metadata": {},
   "outputs": [
    {
     "name": "stdout",
     "output_type": "stream",
     "text": [
      "GPT-4 Response: \n",
      "\n",
      "1.  Price: 9.68, Product: Rosemary Nettle Shampoo Bar, Description: This rosemary nettle shampoo bar is all you need for thick gorgeous hair!Rosemary is queen and king when it comes to hair a...\n",
      "2.  Price: 10.94, Product: Handmade Organic Vapor Rub, Description: This Vapor rub is a great alternative to the commercial rubs you can buy in the grocery store for many reasons. First of al...\n",
      "3.  Price: 11.07, Product: Coconut Silk Conditioning Shampoo Bar, Description: The newest addition to my shampoo soap line - coconut silk conditioning shampoo bar. An incredible bar with coconut milk, s...\n",
      "4.  Price: 15.29, Product: Shampoo for sensible hairs (SMOOTH), Description: Delicacy, harmony and balance in its purest form - that's Smooth. Great hair is all about balance, but it all starts with a...\n",
      "5.  Price: 16.55, Product: Organic Bug Spray Bug Repellant, Description: This completely natural bug spray is perfect for those nighttime hikes in mosquito season. Made with a base of Organic Witc...\n",
      "6.  Price: 18.68, Product: Electric Razor for Women Removal for Body Nose Hair Trimmer Face, Description: Features: 5-in-1 Electric ShaversWomen razor shaver includes 5 interchangeable heads: body shaver head, legs /armpits shave...\n",
      "7.  Price: 18.80, Product: Moon Phase Hair Clip Barrette, Description: Your hair could use some stardust, beautiful! And what better way to do that than a familiar , in this case, faces! This ha...\n",
      "8.  Price: 21.78, Product: Stretch Velvet Turban, Description: Product Description Shipping Care A gorgeous stretch velvet covers the top of the head in this full turban. Cinched at back...\n",
      "9.  Price: 25.30, Product: FINN & GUNNAR NORDIC MASCULINITY MUSTACHE WAX 30 ML, Description: MASCULINITY BEARD STYLING Sustainable plant based beard styling products providing effective hold, control and flexibility ...\n",
      "10.  Price: 25.41, Product: FINN & GUNNAR NORDIC ORGANICS KING BEE WAX 100 ML, Description: ORGANICS STYLING CARE A hair styling series based on natural Nordic ingredients providing effective hold, control and flexi...\n",
      "11.  Price: 32.97, Product: Portable Electric Hot Wax Melting Machine for Hair Removal, Description: Descriptions: A wax hair remover machine is used for hair removal nursing, beauty care, and skin care. Waxing melting uses ...\n",
      "12.  Price: 40.31, Product: Champú sólido Cabello seco 50g - Shampoo bar dry hair, Description: El champú sólido natural para cabello seco Jabonalia ha sido formulado con ingredientes naturales como el Aceite de Argán y...\n",
      "13.  Price: 40.76, Product: Organic Relaxation Bath Tea or Sachet, Description: This ultra calming bath tea is sure to calm your body and mind and send you into a state of unparalleled relaxation. An int...\n",
      "14.  Price: 41.78, Product: Organic Elderberry Syrup, Description: Cold & Flu Relief. Immune Support. Allergy Relief. Made with only certified organic ingredients. Fresh | Pure | Organic Fre...\n",
      "15.  Price: 48.18, Product: Rhinestone Cleo Headpiece, Description: Product Description Shipping Care Marrying comfort and glamour, this headpiece features sparkling glass crystals in a deco ...\n",
      "16.  Price: 49.55, Product: ZERO WASTE | FRENCH GREEN CLAY, Description: FRENCH GREEN CLAY SHAMPOO BAR Our range of shampoo bars makes the most of the natural ingredients to nourish and revitalize...\n",
      "17.  Price: 50.55, Product: Natural Argan Shampoo Bar, Description: Argan Shampoo (1) 5 oz barArgan oil is known for providing natural vitamin E and antioxidants while renewing your hair's ce...\n",
      "18.  Price: 63.00, Product: Vinegar Rinse, White Hair, Natural/Handmade, Glass Bottle, 250ml, Description: This is a vinegar rinse made from natural apple cider vinegar and a combination of herbs and essential oils to help brighte...\n",
      "19.  Price: 68.14, Product: Mekabu Hydrating Conditioner 32 oz, Description: This is a large size (backbar) 32 oz of our MASAMI Mekabu Hydrating Conditioner. It comes with a pump for easy dispensing. ...\n",
      "20.  Price: 84.64, Product: Pro-Ocean Refillable Conditioner Bottle 32 oz, Description: The MASAMI 32 oz Refillable, Sustainable Bottle was designed to elevate any bathroom and last a lifetime. It comes with a s...\n",
      "21.  Price: 87.87, Product: Great White North Beard Balm, Description: Natural ingredients Essential oils and butters Highly nourishing Treats dry skin No color added Paraben Free Phthalate Free...\n",
      "22.  Price: 101.39, Product: FINN & GUNNAR NORDIC MASCULINITY NOURISHING SHAMPOO 250 ML, Description: MASCULINITY VITAL CARE The blend of seaweed, cloudberry, zinc, amino acids and B-vitamins vitalises the hair fibre and stru...\n",
      "23.  Price: 115.93, Product: Artisan Amethyst Geo Vegan Bath Bomb, Description: Indulge your senses and liven up your bath with our hand-made amethyst geode style bath bombs!Featuring Bolivian Rose Salt,...\n",
      "24.  Price: 123.96, Product: Hair Growth Shampoo & Conditioner Set, Description: Hair Growth Shampoo with Amber Extract & Jojoba Oil and Hair Growth Conditioner with Amber Extract & Jojoba Oil Volume: 2 x...\n",
      "25.  Price: 202.98, Product: ZERO WASTE | HEMP SEED OIL, Description: HEMP OIL SHAMPOO BAR Our range of shampoo bars makes the most of the natural ingredients to nourish and revitalize your hai...\n",
      "\n",
      "\n"
     ]
    }
   ],
   "source": [
    "# Sample query from the user\n",
    "# user_query = \"Haircare products\"\n",
    "# user_query = \"I want to buy a pair of haircare products with minimal price\" # None\n",
    "user_query = \"I'm looking for eco-friendly skincare products with a minimum price of 20\"\n",
    "\n",
    "# Get the response from GPT-4\n",
    "gpt_response = generate_dynamic_response_with_gpt4(user_query)\n",
    "\n",
    "# Check and print the response from GPT-4\n",
    "print(f\"GPT-4 Response: \\n\\n{gpt_response}\\n\\n\")\n",
    "\n",
    "# Parse the response to extract attributes and min price\n",
    "attributes, min_price = parse_gpt_response(gpt_response)\n",
    "\n",
    "# Print the parsed information\n",
    "# print(f\"Extracted Attributes: {attributes}\\n\")\n",
    "# print(f\"Extracted Min Price: {min_price}\\n\")"
   ]
  }
 ],
 "metadata": {
  "kernelspec": {
   "display_name": "Python 3 (ipykernel)",
   "language": "python",
   "name": "python3"
  },
  "language_info": {
   "codemirror_mode": {
    "name": "ipython",
    "version": 3
   },
   "file_extension": ".py",
   "mimetype": "text/x-python",
   "name": "python",
   "nbconvert_exporter": "python",
   "pygments_lexer": "ipython3",
   "version": "3.7.12"
  }
 },
 "nbformat": 4,
 "nbformat_minor": 5
}
